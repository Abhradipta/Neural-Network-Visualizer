{
  "nbformat": 4,
  "nbformat_minor": 0,
  "metadata": {
    "kernelspec": {
      "display_name": "Python 3",
      "language": "python",
      "name": "python3"
    },
    "language_info": {
      "codemirror_mode": {
        "name": "ipython",
        "version": 3
      },
      "file_extension": ".py",
      "mimetype": "text/x-python",
      "name": "python",
      "nbconvert_exporter": "python",
      "pygments_lexer": "ipython3",
      "version": "3.6.9"
    },
    "colab": {
      "name": "Learner Notebook.ipynb",
      "provenance": []
    },
    "accelerator": "GPU"
  },
  "cells": [
    {
      "cell_type": "markdown",
      "metadata": {
        "id": "H_YyUQQBBA5X"
      },
      "source": [
        "<h1 align='center'>Neural Network Visualizer</h1>"
      ]
    },
    {
      "cell_type": "markdown",
      "metadata": {
        "id": "53CLoQj_A9KY"
      },
      "source": [
        "<h2>Importing Libraries</h2>"
      ]
    },
    {
      "cell_type": "code",
      "metadata": {
        "id": "VYv3y0rzA9Kd"
      },
      "source": [
        "%matplotlib inline\n",
        "\n",
        "import tensorflow as tf\n",
        "import numpy as np\n",
        "import matplotlib.pyplot as plt"
      ],
      "execution_count": 1,
      "outputs": []
    },
    {
      "cell_type": "markdown",
      "metadata": {
        "id": "4JFFlYGPA9Kj"
      },
      "source": [
        "<h2>Downloading Data</h2>"
      ]
    },
    {
      "cell_type": "code",
      "metadata": {
        "id": "xPGO2HmkA9Kk",
        "outputId": "4a484124-9289-4c9d-c9ef-7c81241012bd",
        "colab": {
          "base_uri": "https://localhost:8080/",
          "height": 50
        }
      },
      "source": [
        "(x_train,y_train),(x_test, y_test)=tf.keras.datasets.mnist.load_data()"
      ],
      "execution_count": 2,
      "outputs": [
        {
          "output_type": "stream",
          "text": [
            "Downloading data from https://storage.googleapis.com/tensorflow/tf-keras-datasets/mnist.npz\n",
            "11493376/11490434 [==============================] - 0s 0us/step\n"
          ],
          "name": "stdout"
        }
      ]
    },
    {
      "cell_type": "markdown",
      "metadata": {
        "id": "uhXWoqBgA9Ko"
      },
      "source": [
        "<h2>Plotting Examples</h2>"
      ]
    },
    {
      "cell_type": "code",
      "metadata": {
        "id": "dqognFElA9Kq",
        "outputId": "37cfa0c2-da87-4172-8b73-6783e612bb9f",
        "colab": {
          "base_uri": "https://localhost:8080/",
          "height": 589
        }
      },
      "source": [
        "plt.figure(figsize=(10,10))\n",
        "for i in range(0,16):\n",
        "    plt.subplot(4,4,i+1)\n",
        "    plt.imshow(x_train[i], cmap='binary')\n",
        "    plt.xlabel(str(y_train[i]))\n",
        "    plt.xticks([])\n",
        "    plt.yticks([])\n",
        "plt.show()"
      ],
      "execution_count": 3,
      "outputs": [
        {
          "output_type": "display_data",
          "data": {
            "image/png": "[encoded data removed]",
            "text/plain": [
              "<Figure size 720x720 with 16 Axes>"
            ]
          },
          "metadata": {
            "tags": []
          }
        }
      ]
    },
    {
      "cell_type": "markdown",
      "metadata": {
        "id": "HyXM9Oa0A9Ku"
      },
      "source": [
        "<h2>Normalizing Data</h2>"
      ]
    },
    {
      "cell_type": "code",
      "metadata": {
        "id": "Yd4fW_y7A9Kv"
      },
      "source": [
        "x_train=np.reshape(x_train,(60000, 28*28))\n",
        "x_test=np.reshape(x_test,(10000, 28*28))\n",
        "x_train=x_train/255.\n",
        "x_test=x_test/255."
      ],
      "execution_count": 4,
      "outputs": []
    },
    {
      "cell_type": "markdown",
      "metadata": {
        "id": "nJN8d-fsA9Kz"
      },
      "source": [
        "<h2>Creating A Neural Network Model</h2>"
      ]
    },
    {
      "cell_type": "code",
      "metadata": {
        "id": "y3ZRDd1fA9K0"
      },
      "source": [
        "model=tf.keras.models.Sequential([\n",
        "    tf.keras.layers.Dense(32, activation='sigmoid', input_shape=(784,)),\n",
        "    tf.keras.layers.Dense(32, activation='sigmoid'),\n",
        "    tf.keras.layers.Dense(10, activation='softmax')\n",
        "])\n",
        "model.compile(\n",
        "    loss='sparse_categorical_crossentropy',\n",
        "    optimizer='adam',\n",
        "    metrics=['accuracy']\n",
        ")"
      ],
      "execution_count": 5,
      "outputs": []
    },
    {
      "cell_type": "markdown",
      "metadata": {
        "id": "CLHWINzMA9K5"
      },
      "source": [
        "<h2>Training the Model</h2>"
      ]
    },
    {
      "cell_type": "code",
      "metadata": {
        "id": "ru54biTuA9K6",
        "outputId": "c123e5b1-3c15-4489-b960-7c19b1641445",
        "colab": {
          "base_uri": "https://localhost:8080/",
          "height": 1000
        }
      },
      "source": [
        "_=model.fit(\n",
        "    x_train, y_train,\n",
        "    validation_data=(x_test, y_test),\n",
        "    epochs=50, batch_size=128,\n",
        "    verbose=2\n",
        ")"
      ],
      "execution_count": 7,
      "outputs": [
        {
          "output_type": "stream",
          "text": [
            "Epoch 1/50\n",
            "469/469 - 2s - loss: 8.6833e-04 - accuracy: 0.9999 - val_loss: 0.2755 - val_accuracy: 0.9601\n",
            "Epoch 2/50\n",
            "469/469 - 2s - loss: 4.8317e-04 - accuracy: 0.9999 - val_loss: 0.2752 - val_accuracy: 0.9602\n",
            "Epoch 3/50\n",
            "469/469 - 2s - loss: 4.1989e-04 - accuracy: 1.0000 - val_loss: 0.2758 - val_accuracy: 0.9601\n",
            "Epoch 4/50\n",
            "469/469 - 2s - loss: 3.8266e-04 - accuracy: 1.0000 - val_loss: 0.2758 - val_accuracy: 0.9600\n",
            "Epoch 5/50\n",
            "469/469 - 2s - loss: 3.5332e-04 - accuracy: 1.0000 - val_loss: 0.2761 - val_accuracy: 0.9596\n",
            "Epoch 6/50\n",
            "469/469 - 2s - loss: 3.2794e-04 - accuracy: 1.0000 - val_loss: 0.2773 - val_accuracy: 0.9599\n",
            "Epoch 7/50\n",
            "469/469 - 2s - loss: 3.0707e-04 - accuracy: 1.0000 - val_loss: 0.2773 - val_accuracy: 0.9597\n",
            "Epoch 8/50\n",
            "469/469 - 2s - loss: 2.8955e-04 - accuracy: 1.0000 - val_loss: 0.2781 - val_accuracy: 0.9600\n",
            "Epoch 9/50\n",
            "469/469 - 2s - loss: 2.7116e-04 - accuracy: 1.0000 - val_loss: 0.2788 - val_accuracy: 0.9593\n",
            "Epoch 10/50\n",
            "469/469 - 2s - loss: 2.5655e-04 - accuracy: 1.0000 - val_loss: 0.2794 - val_accuracy: 0.9597\n",
            "Epoch 11/50\n",
            "469/469 - 2s - loss: 2.4168e-04 - accuracy: 1.0000 - val_loss: 0.2791 - val_accuracy: 0.9600\n",
            "Epoch 12/50\n",
            "469/469 - 2s - loss: 2.2992e-04 - accuracy: 1.0000 - val_loss: 0.2809 - val_accuracy: 0.9598\n",
            "Epoch 13/50\n",
            "469/469 - 2s - loss: 2.1835e-04 - accuracy: 1.0000 - val_loss: 0.2831 - val_accuracy: 0.9593\n",
            "Epoch 14/50\n",
            "469/469 - 2s - loss: 2.0278e-04 - accuracy: 1.0000 - val_loss: 0.2850 - val_accuracy: 0.9588\n",
            "Epoch 15/50\n",
            "469/469 - 2s - loss: 1.9540e-04 - accuracy: 1.0000 - val_loss: 0.2862 - val_accuracy: 0.9596\n",
            "Epoch 16/50\n",
            "469/469 - 2s - loss: 1.8325e-04 - accuracy: 1.0000 - val_loss: 0.2889 - val_accuracy: 0.9593\n",
            "Epoch 17/50\n",
            "469/469 - 2s - loss: 1.6946e-04 - accuracy: 1.0000 - val_loss: 0.2912 - val_accuracy: 0.9592\n",
            "Epoch 18/50\n",
            "469/469 - 2s - loss: 1.6010e-04 - accuracy: 1.0000 - val_loss: 0.2924 - val_accuracy: 0.9595\n",
            "Epoch 19/50\n",
            "469/469 - 2s - loss: 1.5131e-04 - accuracy: 1.0000 - val_loss: 0.2949 - val_accuracy: 0.9595\n",
            "Epoch 20/50\n",
            "469/469 - 2s - loss: 1.5540e-04 - accuracy: 1.0000 - val_loss: 0.2929 - val_accuracy: 0.9588\n",
            "Epoch 21/50\n",
            "469/469 - 2s - loss: 0.0020 - accuracy: 0.9994 - val_loss: 0.2990 - val_accuracy: 0.9589\n",
            "Epoch 22/50\n",
            "469/469 - 2s - loss: 4.5133e-04 - accuracy: 1.0000 - val_loss: 0.2964 - val_accuracy: 0.9603\n",
            "Epoch 23/50\n",
            "469/469 - 2s - loss: 1.8207e-04 - accuracy: 1.0000 - val_loss: 0.2972 - val_accuracy: 0.9600\n",
            "Epoch 24/50\n",
            "469/469 - 2s - loss: 1.5265e-04 - accuracy: 1.0000 - val_loss: 0.2973 - val_accuracy: 0.9599\n",
            "Epoch 25/50\n",
            "469/469 - 2s - loss: 1.3761e-04 - accuracy: 1.0000 - val_loss: 0.2972 - val_accuracy: 0.9595\n",
            "Epoch 26/50\n",
            "469/469 - 2s - loss: 1.2706e-04 - accuracy: 1.0000 - val_loss: 0.2993 - val_accuracy: 0.9593\n",
            "Epoch 27/50\n",
            "469/469 - 2s - loss: 1.1921e-04 - accuracy: 1.0000 - val_loss: 0.2997 - val_accuracy: 0.9594\n",
            "Epoch 28/50\n",
            "469/469 - 2s - loss: 1.1169e-04 - accuracy: 1.0000 - val_loss: 0.2997 - val_accuracy: 0.9593\n",
            "Epoch 29/50\n",
            "469/469 - 2s - loss: 1.0598e-04 - accuracy: 1.0000 - val_loss: 0.3018 - val_accuracy: 0.9590\n",
            "Epoch 30/50\n",
            "469/469 - 2s - loss: 1.0196e-04 - accuracy: 1.0000 - val_loss: 0.3011 - val_accuracy: 0.9593\n",
            "Epoch 31/50\n",
            "469/469 - 2s - loss: 9.4730e-05 - accuracy: 1.0000 - val_loss: 0.3042 - val_accuracy: 0.9589\n",
            "Epoch 32/50\n",
            "469/469 - 2s - loss: 9.1210e-05 - accuracy: 1.0000 - val_loss: 0.3048 - val_accuracy: 0.9592\n",
            "Epoch 33/50\n",
            "469/469 - 2s - loss: 8.6767e-05 - accuracy: 1.0000 - val_loss: 0.3056 - val_accuracy: 0.9598\n",
            "Epoch 34/50\n",
            "469/469 - 2s - loss: 8.3073e-05 - accuracy: 1.0000 - val_loss: 0.3100 - val_accuracy: 0.9591\n",
            "Epoch 35/50\n",
            "469/469 - 2s - loss: 8.0446e-05 - accuracy: 1.0000 - val_loss: 0.3131 - val_accuracy: 0.9590\n",
            "Epoch 36/50\n",
            "469/469 - 2s - loss: 0.0018 - accuracy: 0.9994 - val_loss: 0.3392 - val_accuracy: 0.9564\n",
            "Epoch 37/50\n",
            "469/469 - 2s - loss: 0.0013 - accuracy: 0.9996 - val_loss: 0.3136 - val_accuracy: 0.9578\n",
            "Epoch 38/50\n",
            "469/469 - 2s - loss: 1.8577e-04 - accuracy: 1.0000 - val_loss: 0.3090 - val_accuracy: 0.9588\n",
            "Epoch 39/50\n",
            "469/469 - 2s - loss: 1.0887e-04 - accuracy: 1.0000 - val_loss: 0.3104 - val_accuracy: 0.9591\n",
            "Epoch 40/50\n",
            "469/469 - 2s - loss: 9.3995e-05 - accuracy: 1.0000 - val_loss: 0.3108 - val_accuracy: 0.9597\n",
            "Epoch 41/50\n",
            "469/469 - 2s - loss: 8.6436e-05 - accuracy: 1.0000 - val_loss: 0.3107 - val_accuracy: 0.9595\n",
            "Epoch 42/50\n",
            "469/469 - 2s - loss: 8.0682e-05 - accuracy: 1.0000 - val_loss: 0.3114 - val_accuracy: 0.9599\n",
            "Epoch 43/50\n",
            "469/469 - 2s - loss: 7.5546e-05 - accuracy: 1.0000 - val_loss: 0.3117 - val_accuracy: 0.9599\n",
            "Epoch 44/50\n",
            "469/469 - 2s - loss: 7.1422e-05 - accuracy: 1.0000 - val_loss: 0.3130 - val_accuracy: 0.9599\n",
            "Epoch 45/50\n",
            "469/469 - 2s - loss: 6.7462e-05 - accuracy: 1.0000 - val_loss: 0.3145 - val_accuracy: 0.9594\n",
            "Epoch 46/50\n",
            "469/469 - 2s - loss: 6.4395e-05 - accuracy: 1.0000 - val_loss: 0.3152 - val_accuracy: 0.9596\n",
            "Epoch 47/50\n",
            "469/469 - 2s - loss: 6.1163e-05 - accuracy: 1.0000 - val_loss: 0.3156 - val_accuracy: 0.9597\n",
            "Epoch 48/50\n",
            "469/469 - 2s - loss: 5.8001e-05 - accuracy: 1.0000 - val_loss: 0.3184 - val_accuracy: 0.9595\n",
            "Epoch 49/50\n",
            "469/469 - 2s - loss: 5.5557e-05 - accuracy: 1.0000 - val_loss: 0.3207 - val_accuracy: 0.9599\n",
            "Epoch 50/50\n",
            "469/469 - 2s - loss: 5.3324e-05 - accuracy: 1.0000 - val_loss: 0.3201 - val_accuracy: 0.9600\n"
          ],
          "name": "stdout"
        }
      ]
    },
    {
      "cell_type": "markdown",
      "metadata": {
        "id": "OzJk6BEtA9LA"
      },
      "source": [
        "<h2>Saving The Model</h2>"
      ]
    },
    {
      "cell_type": "code",
      "metadata": {
        "id": "pfTJNct6A9LB"
      },
      "source": [
        "model.save('model.h5')"
      ],
      "execution_count": 8,
      "outputs": []
    },
    {
      "cell_type": "markdown",
      "metadata": {
        "id": "uc-HZukXA9LG"
      },
      "source": [
        "<h2>ML Server</h2>"
      ]
    },
    {
      "cell_type": "code",
      "metadata": {
        "id": "-cQKzNzNA9LH",
        "outputId": "78355514-48d2-467c-b396-1b44f0629384",
        "colab": {
          "base_uri": "https://localhost:8080/",
          "height": 34
        }
      },
      "source": [
        "%%writefile ml_server.py\n",
        "\n",
        "import json\n",
        "import tensorflow as tf\n",
        "import numpy as np\n",
        "import random\n",
        "from flask import Flask, request\n",
        "app=Flask(__name__)\n",
        "model=tf.keras.models.load_model('model.h5')\n",
        "feature_model=tf.keras.models.Model(\n",
        "    model.inputs,\n",
        "    [layer.output for layer in model.layers]\n",
        ")\n",
        "_, (x_test,_)=tf.keras.datasets.mnist.load_data()\n",
        "x_test=x_test/255.\n",
        "def get_prediction():\n",
        "    index=np.random.choice(x_test.shape[0])\n",
        "    image=x_test[index, :, :]\n",
        "    image_arr=np.reshape(image,(1,784))\n",
        "    return feature_model.predict(image_arr), image\n",
        "@app.route('/', methods=['GET', 'POST'])\n",
        "def index():\n",
        "    if request.method == 'POST':\n",
        "        preds, image=get_prediction()\n",
        "        final_preds=[p.tolist() for p in preds]\n",
        "        return json.dumps({\n",
        "            'prediction': final_preds,\n",
        "            'image':image.tolist()\n",
        "        })\n",
        "    return 'Welcome To The Model Server!'\n",
        "if __name__=='__main__':\n",
        "    app.run()"
      ],
      "execution_count": 9,
      "outputs": [
        {
          "output_type": "stream",
          "text": [
            "Writing ml_server.py\n"
          ],
          "name": "stdout"
        }
      ]
    },
    {
      "cell_type": "markdown",
      "metadata": {
        "id": "RvB5E2CTA9LM"
      },
      "source": [
        "<h2>Streamlit Web App</h2>"
      ]
    },
    {
      "cell_type": "code",
      "metadata": {
        "id": "31q7vRiuA9LN",
        "outputId": "b6a44df3-48f9-4be3-bde2-d5521af1789b",
        "colab": {
          "base_uri": "https://localhost:8080/",
          "height": 34
        }
      },
      "source": [
        "%%writefile app.py\n",
        "import streamlit as st\n",
        "import json\n",
        "import requests\n",
        "import matplotlib.pyplot as plt\n",
        "import numpy as np\n",
        "URI='http://127.0.0.1:5000'\n",
        "st.title('Neural Network Visualizer')\n",
        "st.sidebar.markdown('## Input Image')\n",
        "if st.button('Get Random Prediction'):\n",
        "    response=requests.post(URI, data={})\n",
        "    response=json.loads(response.text)\n",
        "    preds=response.get('prediction')\n",
        "    image=response.get('image')\n",
        "    image=np.reshape(image, (28,28))\n",
        "    st.sidebar.image(image, width=150)\n",
        "    for layer, p in enumerate(preds):\n",
        "        numbers=np.squeeze(np.array(p))\n",
        "        plt.figure(figsize=(32, 4))\n",
        "        if layer == 2:\n",
        "            row=1\n",
        "            col=10\n",
        "        else:\n",
        "            row=2\n",
        "            col=16\n",
        "        for i, number in enumerate(numbers):\n",
        "            plt.subplot(row, col, i+1)\n",
        "            plt.imshow(number*np.ones((8,8,3)).astype('float32'))\n",
        "            plt.xticks([])\n",
        "            plt.yticks([])\n",
        "            if layer==2:\n",
        "                plt.xlabel(str(i), fontsize=40)\n",
        "        plt.subplots_adjust(wspace=0.05, hspace=0.05)\n",
        "        plt.tight_layout()\n",
        "        st.text('Layer {}'.format(layer+1))\n",
        "        st.pyplot()"
      ],
      "execution_count": 11,
      "outputs": [
        {
          "output_type": "stream",
          "text": [
            "Writing app.py\n"
          ],
          "name": "stdout"
        }
      ]
    }
  ]
}